{
 "cells": [
  {
   "cell_type": "code",
   "execution_count": 2,
   "id": "96f32670-af6e-4f3d-ae15-25081dfe6865",
   "metadata": {},
   "outputs": [],
   "source": [
    "import pandas as pd\n",
    "import matplotlib.pyplot as plt"
   ]
  },
  {
   "cell_type": "code",
   "execution_count": 8,
   "id": "34902a84-014d-4825-99a4-d3653067a630",
   "metadata": {},
   "outputs": [
    {
     "data": {
      "text/html": [
       "<div>\n",
       "<style scoped>\n",
       "    .dataframe tbody tr th:only-of-type {\n",
       "        vertical-align: middle;\n",
       "    }\n",
       "\n",
       "    .dataframe tbody tr th {\n",
       "        vertical-align: top;\n",
       "    }\n",
       "\n",
       "    .dataframe thead th {\n",
       "        text-align: right;\n",
       "    }\n",
       "</style>\n",
       "<table border=\"1\" class=\"dataframe\">\n",
       "  <thead>\n",
       "    <tr style=\"text-align: right;\">\n",
       "      <th></th>\n",
       "      <th>Date</th>\n",
       "      <th>HomeTeam</th>\n",
       "      <th>Result</th>\n",
       "      <th>AwayTeam</th>\n",
       "    </tr>\n",
       "  </thead>\n",
       "  <tbody>\n",
       "    <tr>\n",
       "      <th>0</th>\n",
       "      <td>13-Aug-2021</td>\n",
       "      <td>Brentford</td>\n",
       "      <td>2:0</td>\n",
       "      <td>Arsenal</td>\n",
       "    </tr>\n",
       "    <tr>\n",
       "      <th>1</th>\n",
       "      <td>14-Aug-2021</td>\n",
       "      <td>Burnley</td>\n",
       "      <td>1:2</td>\n",
       "      <td>Brighton and Hove Albion</td>\n",
       "    </tr>\n",
       "    <tr>\n",
       "      <th>2</th>\n",
       "      <td>14-Aug-2021</td>\n",
       "      <td>Chelsea</td>\n",
       "      <td>3:0</td>\n",
       "      <td>Crystal Palace</td>\n",
       "    </tr>\n",
       "    <tr>\n",
       "      <th>3</th>\n",
       "      <td>14-Aug-2021</td>\n",
       "      <td>Everton</td>\n",
       "      <td>3:1</td>\n",
       "      <td>Southampton</td>\n",
       "    </tr>\n",
       "    <tr>\n",
       "      <th>4</th>\n",
       "      <td>14-Aug-2021</td>\n",
       "      <td>Leicester City</td>\n",
       "      <td>1:0</td>\n",
       "      <td>Wolverhampton Wanderers</td>\n",
       "    </tr>\n",
       "    <tr>\n",
       "      <th>...</th>\n",
       "      <td>...</td>\n",
       "      <td>...</td>\n",
       "      <td>...</td>\n",
       "      <td>...</td>\n",
       "    </tr>\n",
       "    <tr>\n",
       "      <th>375</th>\n",
       "      <td>22-May-2022</td>\n",
       "      <td>Crystal Palace</td>\n",
       "      <td>1:0</td>\n",
       "      <td>Manchester United</td>\n",
       "    </tr>\n",
       "    <tr>\n",
       "      <th>376</th>\n",
       "      <td>22-May-2022</td>\n",
       "      <td>Leicester City</td>\n",
       "      <td>4:1</td>\n",
       "      <td>Southampton</td>\n",
       "    </tr>\n",
       "    <tr>\n",
       "      <th>377</th>\n",
       "      <td>22-May-2022</td>\n",
       "      <td>Liverpool</td>\n",
       "      <td>3:1</td>\n",
       "      <td>Wolverhampton Wanderers</td>\n",
       "    </tr>\n",
       "    <tr>\n",
       "      <th>378</th>\n",
       "      <td>22-May-2022</td>\n",
       "      <td>Manchester City</td>\n",
       "      <td>3:2</td>\n",
       "      <td>Aston Villa</td>\n",
       "    </tr>\n",
       "    <tr>\n",
       "      <th>379</th>\n",
       "      <td>22-May-2022</td>\n",
       "      <td>Norwich City</td>\n",
       "      <td>0:5</td>\n",
       "      <td>Tottenham Hotspur</td>\n",
       "    </tr>\n",
       "  </tbody>\n",
       "</table>\n",
       "<p>380 rows × 4 columns</p>\n",
       "</div>"
      ],
      "text/plain": [
       "            Date         HomeTeam Result                  AwayTeam\n",
       "0    13-Aug-2021        Brentford    2:0                   Arsenal\n",
       "1    14-Aug-2021          Burnley    1:2  Brighton and Hove Albion\n",
       "2    14-Aug-2021          Chelsea    3:0            Crystal Palace\n",
       "3    14-Aug-2021          Everton    3:1               Southampton\n",
       "4    14-Aug-2021   Leicester City    1:0   Wolverhampton Wanderers\n",
       "..           ...              ...    ...                       ...\n",
       "375  22-May-2022   Crystal Palace    1:0         Manchester United\n",
       "376  22-May-2022   Leicester City    4:1               Southampton\n",
       "377  22-May-2022        Liverpool    3:1   Wolverhampton Wanderers\n",
       "378  22-May-2022  Manchester City    3:2               Aston Villa\n",
       "379  22-May-2022     Norwich City    0:5         Tottenham Hotspur\n",
       "\n",
       "[380 rows x 4 columns]"
      ]
     },
     "execution_count": 8,
     "metadata": {},
     "output_type": "execute_result"
    }
   ],
   "source": [
    "data = pd.read_csv(\"all_match_results.csv\")\n",
    "data\n"
   ]
  },
  {
   "cell_type": "code",
   "execution_count": 12,
   "id": "7b9de720-b173-4fc9-a40e-f8b9205589bb",
   "metadata": {},
   "outputs": [
    {
     "data": {
      "text/html": [
       "<div>\n",
       "<style scoped>\n",
       "    .dataframe tbody tr th:only-of-type {\n",
       "        vertical-align: middle;\n",
       "    }\n",
       "\n",
       "    .dataframe tbody tr th {\n",
       "        vertical-align: top;\n",
       "    }\n",
       "\n",
       "    .dataframe thead th {\n",
       "        text-align: right;\n",
       "    }\n",
       "</style>\n",
       "<table border=\"1\" class=\"dataframe\">\n",
       "  <thead>\n",
       "    <tr style=\"text-align: right;\">\n",
       "      <th></th>\n",
       "      <th>Date</th>\n",
       "      <th>HomeTeam</th>\n",
       "      <th>Result</th>\n",
       "      <th>AwayTeam</th>\n",
       "    </tr>\n",
       "  </thead>\n",
       "  <tbody>\n",
       "    <tr>\n",
       "      <th>0</th>\n",
       "      <td>13-Aug-2021</td>\n",
       "      <td>Brentford</td>\n",
       "      <td>2:0</td>\n",
       "      <td>Arsenal</td>\n",
       "    </tr>\n",
       "    <tr>\n",
       "      <th>1</th>\n",
       "      <td>14-Aug-2021</td>\n",
       "      <td>Burnley</td>\n",
       "      <td>1:2</td>\n",
       "      <td>Brighton and Hove Albion</td>\n",
       "    </tr>\n",
       "    <tr>\n",
       "      <th>2</th>\n",
       "      <td>14-Aug-2021</td>\n",
       "      <td>Chelsea</td>\n",
       "      <td>3:0</td>\n",
       "      <td>Crystal Palace</td>\n",
       "    </tr>\n",
       "    <tr>\n",
       "      <th>3</th>\n",
       "      <td>14-Aug-2021</td>\n",
       "      <td>Everton</td>\n",
       "      <td>3:1</td>\n",
       "      <td>Southampton</td>\n",
       "    </tr>\n",
       "    <tr>\n",
       "      <th>4</th>\n",
       "      <td>14-Aug-2021</td>\n",
       "      <td>Leicester City</td>\n",
       "      <td>1:0</td>\n",
       "      <td>Wolverhampton Wanderers</td>\n",
       "    </tr>\n",
       "    <tr>\n",
       "      <th>5</th>\n",
       "      <td>14-Aug-2021</td>\n",
       "      <td>Manchester United</td>\n",
       "      <td>5:1</td>\n",
       "      <td>Leeds United</td>\n",
       "    </tr>\n",
       "    <tr>\n",
       "      <th>6</th>\n",
       "      <td>14-Aug-2021</td>\n",
       "      <td>Norwich City</td>\n",
       "      <td>0:3</td>\n",
       "      <td>Liverpool</td>\n",
       "    </tr>\n",
       "    <tr>\n",
       "      <th>7</th>\n",
       "      <td>14-Aug-2021</td>\n",
       "      <td>Watford</td>\n",
       "      <td>3:2</td>\n",
       "      <td>Aston Villa</td>\n",
       "    </tr>\n",
       "    <tr>\n",
       "      <th>8</th>\n",
       "      <td>15-Aug-2021</td>\n",
       "      <td>Newcastle United</td>\n",
       "      <td>2:4</td>\n",
       "      <td>West Ham United</td>\n",
       "    </tr>\n",
       "    <tr>\n",
       "      <th>9</th>\n",
       "      <td>15-Aug-2021</td>\n",
       "      <td>Tottenham Hotspur</td>\n",
       "      <td>1:0</td>\n",
       "      <td>Manchester City</td>\n",
       "    </tr>\n",
       "  </tbody>\n",
       "</table>\n",
       "</div>"
      ],
      "text/plain": [
       "          Date           HomeTeam Result                  AwayTeam\n",
       "0  13-Aug-2021          Brentford    2:0                   Arsenal\n",
       "1  14-Aug-2021            Burnley    1:2  Brighton and Hove Albion\n",
       "2  14-Aug-2021            Chelsea    3:0            Crystal Palace\n",
       "3  14-Aug-2021            Everton    3:1               Southampton\n",
       "4  14-Aug-2021     Leicester City    1:0   Wolverhampton Wanderers\n",
       "5  14-Aug-2021  Manchester United    5:1              Leeds United\n",
       "6  14-Aug-2021       Norwich City    0:3                 Liverpool\n",
       "7  14-Aug-2021            Watford    3:2               Aston Villa\n",
       "8  15-Aug-2021   Newcastle United    2:4           West Ham United\n",
       "9  15-Aug-2021  Tottenham Hotspur    1:0           Manchester City"
      ]
     },
     "execution_count": 12,
     "metadata": {},
     "output_type": "execute_result"
    }
   ],
   "source": [
    "data.head(10)"
   ]
  },
  {
   "cell_type": "code",
   "execution_count": 11,
   "id": "dcc7c152-35a8-46d7-8dd3-18b019a36ccb",
   "metadata": {},
   "outputs": [
    {
     "data": {
      "text/html": [
       "<div>\n",
       "<style scoped>\n",
       "    .dataframe tbody tr th:only-of-type {\n",
       "        vertical-align: middle;\n",
       "    }\n",
       "\n",
       "    .dataframe tbody tr th {\n",
       "        vertical-align: top;\n",
       "    }\n",
       "\n",
       "    .dataframe thead th {\n",
       "        text-align: right;\n",
       "    }\n",
       "</style>\n",
       "<table border=\"1\" class=\"dataframe\">\n",
       "  <thead>\n",
       "    <tr style=\"text-align: right;\">\n",
       "      <th></th>\n",
       "      <th>Date</th>\n",
       "      <th>HomeTeam</th>\n",
       "      <th>Result</th>\n",
       "      <th>AwayTeam</th>\n",
       "    </tr>\n",
       "  </thead>\n",
       "  <tbody>\n",
       "    <tr>\n",
       "      <th>370</th>\n",
       "      <td>22-May-2022</td>\n",
       "      <td>Arsenal</td>\n",
       "      <td>5:1</td>\n",
       "      <td>Everton</td>\n",
       "    </tr>\n",
       "    <tr>\n",
       "      <th>371</th>\n",
       "      <td>22-May-2022</td>\n",
       "      <td>Brentford</td>\n",
       "      <td>1:2</td>\n",
       "      <td>Leeds United</td>\n",
       "    </tr>\n",
       "    <tr>\n",
       "      <th>372</th>\n",
       "      <td>22-May-2022</td>\n",
       "      <td>Brighton and Hove Albion</td>\n",
       "      <td>3:1</td>\n",
       "      <td>West Ham United</td>\n",
       "    </tr>\n",
       "    <tr>\n",
       "      <th>373</th>\n",
       "      <td>22-May-2022</td>\n",
       "      <td>Burnley</td>\n",
       "      <td>1:2</td>\n",
       "      <td>Newcastle United</td>\n",
       "    </tr>\n",
       "    <tr>\n",
       "      <th>374</th>\n",
       "      <td>22-May-2022</td>\n",
       "      <td>Chelsea</td>\n",
       "      <td>2:1</td>\n",
       "      <td>Watford</td>\n",
       "    </tr>\n",
       "    <tr>\n",
       "      <th>375</th>\n",
       "      <td>22-May-2022</td>\n",
       "      <td>Crystal Palace</td>\n",
       "      <td>1:0</td>\n",
       "      <td>Manchester United</td>\n",
       "    </tr>\n",
       "    <tr>\n",
       "      <th>376</th>\n",
       "      <td>22-May-2022</td>\n",
       "      <td>Leicester City</td>\n",
       "      <td>4:1</td>\n",
       "      <td>Southampton</td>\n",
       "    </tr>\n",
       "    <tr>\n",
       "      <th>377</th>\n",
       "      <td>22-May-2022</td>\n",
       "      <td>Liverpool</td>\n",
       "      <td>3:1</td>\n",
       "      <td>Wolverhampton Wanderers</td>\n",
       "    </tr>\n",
       "    <tr>\n",
       "      <th>378</th>\n",
       "      <td>22-May-2022</td>\n",
       "      <td>Manchester City</td>\n",
       "      <td>3:2</td>\n",
       "      <td>Aston Villa</td>\n",
       "    </tr>\n",
       "    <tr>\n",
       "      <th>379</th>\n",
       "      <td>22-May-2022</td>\n",
       "      <td>Norwich City</td>\n",
       "      <td>0:5</td>\n",
       "      <td>Tottenham Hotspur</td>\n",
       "    </tr>\n",
       "  </tbody>\n",
       "</table>\n",
       "</div>"
      ],
      "text/plain": [
       "            Date                  HomeTeam Result                 AwayTeam\n",
       "370  22-May-2022                   Arsenal    5:1                  Everton\n",
       "371  22-May-2022                 Brentford    1:2             Leeds United\n",
       "372  22-May-2022  Brighton and Hove Albion    3:1          West Ham United\n",
       "373  22-May-2022                   Burnley    1:2         Newcastle United\n",
       "374  22-May-2022                   Chelsea    2:1                  Watford\n",
       "375  22-May-2022            Crystal Palace    1:0        Manchester United\n",
       "376  22-May-2022            Leicester City    4:1              Southampton\n",
       "377  22-May-2022                 Liverpool    3:1  Wolverhampton Wanderers\n",
       "378  22-May-2022           Manchester City    3:2              Aston Villa\n",
       "379  22-May-2022              Norwich City    0:5        Tottenham Hotspur"
      ]
     },
     "execution_count": 11,
     "metadata": {},
     "output_type": "execute_result"
    }
   ],
   "source": [
    "data.tail(10)"
   ]
  },
  {
   "cell_type": "code",
   "execution_count": 13,
   "id": "4e2074f3-7c2c-48a3-873f-7f55db9714b2",
   "metadata": {},
   "outputs": [
    {
     "data": {
      "text/plain": [
       "Date        0\n",
       "HomeTeam    0\n",
       "Result      0\n",
       "AwayTeam    0\n",
       "dtype: int64"
      ]
     },
     "execution_count": 13,
     "metadata": {},
     "output_type": "execute_result"
    }
   ],
   "source": [
    "data.isnull().sum()"
   ]
  },
  {
   "cell_type": "code",
   "execution_count": 15,
   "id": "f2d71a6b-7e26-40a6-9cb7-c77cfa7f31e7",
   "metadata": {},
   "outputs": [
    {
     "data": {
      "text/html": [
       "<div>\n",
       "<style scoped>\n",
       "    .dataframe tbody tr th:only-of-type {\n",
       "        vertical-align: middle;\n",
       "    }\n",
       "\n",
       "    .dataframe tbody tr th {\n",
       "        vertical-align: top;\n",
       "    }\n",
       "\n",
       "    .dataframe thead th {\n",
       "        text-align: right;\n",
       "    }\n",
       "</style>\n",
       "<table border=\"1\" class=\"dataframe\">\n",
       "  <thead>\n",
       "    <tr style=\"text-align: right;\">\n",
       "      <th></th>\n",
       "      <th>Date</th>\n",
       "      <th>HomeTeam</th>\n",
       "      <th>Result</th>\n",
       "      <th>AwayTeam</th>\n",
       "    </tr>\n",
       "  </thead>\n",
       "  <tbody>\n",
       "    <tr>\n",
       "      <th>count</th>\n",
       "      <td>380</td>\n",
       "      <td>380</td>\n",
       "      <td>380</td>\n",
       "      <td>380</td>\n",
       "    </tr>\n",
       "    <tr>\n",
       "      <th>unique</th>\n",
       "      <td>123</td>\n",
       "      <td>20</td>\n",
       "      <td>31</td>\n",
       "      <td>20</td>\n",
       "    </tr>\n",
       "    <tr>\n",
       "      <th>top</th>\n",
       "      <td>22-May-2022</td>\n",
       "      <td>Brentford</td>\n",
       "      <td>1:1</td>\n",
       "      <td>Arsenal</td>\n",
       "    </tr>\n",
       "    <tr>\n",
       "      <th>freq</th>\n",
       "      <td>10</td>\n",
       "      <td>19</td>\n",
       "      <td>42</td>\n",
       "      <td>19</td>\n",
       "    </tr>\n",
       "  </tbody>\n",
       "</table>\n",
       "</div>"
      ],
      "text/plain": [
       "               Date   HomeTeam Result AwayTeam\n",
       "count           380        380    380      380\n",
       "unique          123         20     31       20\n",
       "top     22-May-2022  Brentford    1:1  Arsenal\n",
       "freq             10         19     42       19"
      ]
     },
     "execution_count": 15,
     "metadata": {},
     "output_type": "execute_result"
    }
   ],
   "source": [
    "data.describe()"
   ]
  },
  {
   "cell_type": "code",
   "execution_count": 16,
   "id": "dfaf25bb-7c4b-4e00-bd08-6a841c7d456e",
   "metadata": {},
   "outputs": [
    {
     "name": "stdout",
     "output_type": "stream",
     "text": [
      "Index(['Date', 'HomeTeam', 'Result', 'AwayTeam'], dtype='object')\n"
     ]
    }
   ],
   "source": [
    "print(matches.columns)"
   ]
  },
  {
   "cell_type": "code",
   "execution_count": 17,
   "id": "0d355ccd-4483-4ad5-9fed-d840b4aa4178",
   "metadata": {},
   "outputs": [
    {
     "name": "stdout",
     "output_type": "stream",
     "text": [
      "<class 'pandas.core.frame.DataFrame'>\n",
      "RangeIndex: 380 entries, 0 to 379\n",
      "Data columns (total 4 columns):\n",
      " #   Column    Non-Null Count  Dtype \n",
      "---  ------    --------------  ----- \n",
      " 0   Date      380 non-null    object\n",
      " 1   HomeTeam  380 non-null    object\n",
      " 2   Result    380 non-null    object\n",
      " 3   AwayTeam  380 non-null    object\n",
      "dtypes: object(4)\n",
      "memory usage: 12.0+ KB\n"
     ]
    }
   ],
   "source": [
    "data.info()"
   ]
  },
  {
   "cell_type": "code",
   "execution_count": 18,
   "id": "6e573da7-b2cb-4355-ab2c-4fa1139564b0",
   "metadata": {},
   "outputs": [
    {
     "data": {
      "text/plain": [
       "(380, 4)"
      ]
     },
     "execution_count": 18,
     "metadata": {},
     "output_type": "execute_result"
    }
   ],
   "source": [
    "data.shape"
   ]
  },
  {
   "cell_type": "code",
   "execution_count": 19,
   "id": "e707e530-6472-4bc8-bfa7-3a8b3fc34f49",
   "metadata": {},
   "outputs": [
    {
     "data": {
      "text/plain": [
       "Index(['Date', 'HomeTeam', 'Result', 'AwayTeam'], dtype='object')"
      ]
     },
     "execution_count": 19,
     "metadata": {},
     "output_type": "execute_result"
    }
   ],
   "source": [
    "data.columns"
   ]
  },
  {
   "cell_type": "markdown",
   "id": "bdeff9fd-8c4d-48e7-aec1-a1ebfb072a0e",
   "metadata": {},
   "source": [
    "Create two tables: home and away goals"
   ]
  },
  {
   "cell_type": "code",
   "execution_count": 24,
   "id": "8c2f0983-48d1-4f96-ace6-62e1f6690870",
   "metadata": {},
   "outputs": [],
   "source": [
    "home_goals = matches.groupby('HomeTeam')['Result'].sum()\n",
    "away_goals = matches.groupby('AwayTeam')['Result'].sum()"
   ]
  },
  {
   "cell_type": "code",
   "execution_count": 27,
   "id": "52b4dc54-5284-4f81-b61a-20cba5ac92cb",
   "metadata": {},
   "outputs": [
    {
     "data": {
      "text/plain": [
       "Index(['Date', 'HomeTeam', 'Result', 'AwayTeam'], dtype='object')"
      ]
     },
     "execution_count": 27,
     "metadata": {},
     "output_type": "execute_result"
    }
   ],
   "source": [
    "data.columns"
   ]
  },
  {
   "cell_type": "markdown",
   "id": "bcb5447e-c76d-4683-8724-b4e6a00b0475",
   "metadata": {},
   "source": [
    "Combine home and away goals"
   ]
  },
  {
   "cell_type": "code",
   "execution_count": 28,
   "id": "60ec843a-3f85-4ba6-a8ba-d6fc837bd5fa",
   "metadata": {},
   "outputs": [
    {
     "name": "stdout",
     "output_type": "stream",
     "text": [
      "HomeTeam\n",
      "Arsenal                     0:21:03:12:23:11:02:03:02:01:20:02:12:12:00:21...\n",
      "Aston Villa                 2:01:13:02:31:42:01:22:11:32:23:30:14:00:10:42...\n",
      "Brentford                   2:00:13:30:11:21:21:02:10:12:11:31:20:00:22:02...\n",
      "Brighton and Hove Albion    2:00:22:10:01:41:10:00:12:01:11:10:30:20:20:20...\n",
      "Burnley                     1:21:10:10:03:13:30:00:01:10:11:00:20:40:23:22...\n",
      "Chelsea                     3:03:00:13:17:01:11:13:21:11:12:22:01:01:42:41...\n",
      "Crystal Palace              0:03:01:12:21:12:01:23:12:23:02:31:30:11:10:03...\n",
      "Everton                     3:13:12:00:12:50:01:42:12:30:13:00:10:11:01:01...\n",
      "Leeds United                2:20:31:21:01:11:11:02:21:43:10:12:40:40:32:11...\n",
      "Leicester City              1:00:12:24:20:20:34:24:01:02:31:12:21:02:12:10...\n",
      "Liverpool                   2:01:13:02:22:24:04:01:03:13:02:03:16:01:02:04...\n",
      "Manchester City             5:05:00:02:00:23:02:11:07:06:31:02:02:34:12:23...\n",
      "Manchester United           5:14:10:11:10:50:23:21:03:10:11:01:12:00:03:21...\n",
      "Newcastle United            2:42:21:12:30:33:31:11:00:41:11:13:11:02:11:02...\n",
      "Norwich City                0:31:21:30:01:22:10:00:10:20:52:11:10:41:31:32...\n",
      "Southampton                 1:10:00:11:02:21:02:21:11:14:11:12:02:01:21:20...\n",
      "Tottenham Hotspur           1:01:00:32:10:32:12:03:02:23:02:30:25:03:15:10...\n",
      "Watford                     3:20:21:10:50:14:11:21:31:40:10:30:21:42:30:31...\n",
      "West Ham United             4:12:21:21:21:03:21:13:22:32:02:31:01:11:02:12...\n",
      "Wolverhampton Wanderers     0:10:10:22:12:11:00:00:10:03:10:12:10:24:02:32...\n",
      "Name: Result, dtype: object\n"
     ]
    }
   ],
   "source": [
    "total_goals = home_goals.add(away_goals, fill_value=0)\n",
    "print(total_goals)"
   ]
  },
  {
   "cell_type": "markdown",
   "id": "3e7f2ebb-15cb-48cd-a71e-bb3ff46fca1a",
   "metadata": {},
   "source": [
    "Top Goals\n",
    "which team scored the most goals?\n"
   ]
  },
  {
   "cell_type": "code",
   "execution_count": 36,
   "id": "bfae85ee-f876-40b3-be01-049cdfc1181e",
   "metadata": {},
   "outputs": [
    {
     "ename": "KeyError",
     "evalue": "'Team'",
     "output_type": "error",
     "traceback": [
      "\u001b[0;31m---------------------------------------------------------------------------\u001b[0m",
      "\u001b[0;31mKeyError\u001b[0m                                  Traceback (most recent call last)",
      "Cell \u001b[0;32mIn[36], line 1\u001b[0m\n\u001b[0;32m----> 1\u001b[0m top_teams \u001b[38;5;241m=\u001b[39m \u001b[43mdata\u001b[49m\u001b[38;5;241;43m.\u001b[39;49m\u001b[43mgroupby\u001b[49m\u001b[43m(\u001b[49m\u001b[38;5;124;43m'\u001b[39;49m\u001b[38;5;124;43mTeam\u001b[39;49m\u001b[38;5;124;43m'\u001b[39;49m\u001b[43m)\u001b[49m[\u001b[38;5;124m'\u001b[39m\u001b[38;5;124mGoalsConceded\u001b[39m\u001b[38;5;124m'\u001b[39m]\u001b[38;5;241m.\u001b[39msum()\u001b[38;5;241m.\u001b[39msort_values()\n\u001b[1;32m      2\u001b[0m \u001b[38;5;28mprint\u001b[39m(least_conceded)\n",
      "File \u001b[0;32m~/.local/lib/python3.8/site-packages/pandas/core/frame.py:8252\u001b[0m, in \u001b[0;36mDataFrame.groupby\u001b[0;34m(self, by, axis, level, as_index, sort, group_keys, observed, dropna)\u001b[0m\n\u001b[1;32m   8249\u001b[0m     \u001b[38;5;28;01mraise\u001b[39;00m \u001b[38;5;167;01mTypeError\u001b[39;00m(\u001b[38;5;124m\"\u001b[39m\u001b[38;5;124mYou have to supply one of \u001b[39m\u001b[38;5;124m'\u001b[39m\u001b[38;5;124mby\u001b[39m\u001b[38;5;124m'\u001b[39m\u001b[38;5;124m and \u001b[39m\u001b[38;5;124m'\u001b[39m\u001b[38;5;124mlevel\u001b[39m\u001b[38;5;124m'\u001b[39m\u001b[38;5;124m\"\u001b[39m)\n\u001b[1;32m   8250\u001b[0m axis \u001b[38;5;241m=\u001b[39m \u001b[38;5;28mself\u001b[39m\u001b[38;5;241m.\u001b[39m_get_axis_number(axis)\n\u001b[0;32m-> 8252\u001b[0m \u001b[38;5;28;01mreturn\u001b[39;00m \u001b[43mDataFrameGroupBy\u001b[49m\u001b[43m(\u001b[49m\n\u001b[1;32m   8253\u001b[0m \u001b[43m    \u001b[49m\u001b[43mobj\u001b[49m\u001b[38;5;241;43m=\u001b[39;49m\u001b[38;5;28;43mself\u001b[39;49m\u001b[43m,\u001b[49m\n\u001b[1;32m   8254\u001b[0m \u001b[43m    \u001b[49m\u001b[43mkeys\u001b[49m\u001b[38;5;241;43m=\u001b[39;49m\u001b[43mby\u001b[49m\u001b[43m,\u001b[49m\n\u001b[1;32m   8255\u001b[0m \u001b[43m    \u001b[49m\u001b[43maxis\u001b[49m\u001b[38;5;241;43m=\u001b[39;49m\u001b[43maxis\u001b[49m\u001b[43m,\u001b[49m\n\u001b[1;32m   8256\u001b[0m \u001b[43m    \u001b[49m\u001b[43mlevel\u001b[49m\u001b[38;5;241;43m=\u001b[39;49m\u001b[43mlevel\u001b[49m\u001b[43m,\u001b[49m\n\u001b[1;32m   8257\u001b[0m \u001b[43m    \u001b[49m\u001b[43mas_index\u001b[49m\u001b[38;5;241;43m=\u001b[39;49m\u001b[43mas_index\u001b[49m\u001b[43m,\u001b[49m\n\u001b[1;32m   8258\u001b[0m \u001b[43m    \u001b[49m\u001b[43msort\u001b[49m\u001b[38;5;241;43m=\u001b[39;49m\u001b[43msort\u001b[49m\u001b[43m,\u001b[49m\n\u001b[1;32m   8259\u001b[0m \u001b[43m    \u001b[49m\u001b[43mgroup_keys\u001b[49m\u001b[38;5;241;43m=\u001b[39;49m\u001b[43mgroup_keys\u001b[49m\u001b[43m,\u001b[49m\n\u001b[1;32m   8260\u001b[0m \u001b[43m    \u001b[49m\u001b[43mobserved\u001b[49m\u001b[38;5;241;43m=\u001b[39;49m\u001b[43mobserved\u001b[49m\u001b[43m,\u001b[49m\n\u001b[1;32m   8261\u001b[0m \u001b[43m    \u001b[49m\u001b[43mdropna\u001b[49m\u001b[38;5;241;43m=\u001b[39;49m\u001b[43mdropna\u001b[49m\u001b[43m,\u001b[49m\n\u001b[1;32m   8262\u001b[0m \u001b[43m\u001b[49m\u001b[43m)\u001b[49m\n",
      "File \u001b[0;32m~/.local/lib/python3.8/site-packages/pandas/core/groupby/groupby.py:931\u001b[0m, in \u001b[0;36mGroupBy.__init__\u001b[0;34m(self, obj, keys, axis, level, grouper, exclusions, selection, as_index, sort, group_keys, observed, dropna)\u001b[0m\n\u001b[1;32m    928\u001b[0m \u001b[38;5;28mself\u001b[39m\u001b[38;5;241m.\u001b[39mdropna \u001b[38;5;241m=\u001b[39m dropna\n\u001b[1;32m    930\u001b[0m \u001b[38;5;28;01mif\u001b[39;00m grouper \u001b[38;5;129;01mis\u001b[39;00m \u001b[38;5;28;01mNone\u001b[39;00m:\n\u001b[0;32m--> 931\u001b[0m     grouper, exclusions, obj \u001b[38;5;241m=\u001b[39m \u001b[43mget_grouper\u001b[49m\u001b[43m(\u001b[49m\n\u001b[1;32m    932\u001b[0m \u001b[43m        \u001b[49m\u001b[43mobj\u001b[49m\u001b[43m,\u001b[49m\n\u001b[1;32m    933\u001b[0m \u001b[43m        \u001b[49m\u001b[43mkeys\u001b[49m\u001b[43m,\u001b[49m\n\u001b[1;32m    934\u001b[0m \u001b[43m        \u001b[49m\u001b[43maxis\u001b[49m\u001b[38;5;241;43m=\u001b[39;49m\u001b[43maxis\u001b[49m\u001b[43m,\u001b[49m\n\u001b[1;32m    935\u001b[0m \u001b[43m        \u001b[49m\u001b[43mlevel\u001b[49m\u001b[38;5;241;43m=\u001b[39;49m\u001b[43mlevel\u001b[49m\u001b[43m,\u001b[49m\n\u001b[1;32m    936\u001b[0m \u001b[43m        \u001b[49m\u001b[43msort\u001b[49m\u001b[38;5;241;43m=\u001b[39;49m\u001b[43msort\u001b[49m\u001b[43m,\u001b[49m\n\u001b[1;32m    937\u001b[0m \u001b[43m        \u001b[49m\u001b[43mobserved\u001b[49m\u001b[38;5;241;43m=\u001b[39;49m\u001b[43mobserved\u001b[49m\u001b[43m,\u001b[49m\n\u001b[1;32m    938\u001b[0m \u001b[43m        \u001b[49m\u001b[43mdropna\u001b[49m\u001b[38;5;241;43m=\u001b[39;49m\u001b[38;5;28;43mself\u001b[39;49m\u001b[38;5;241;43m.\u001b[39;49m\u001b[43mdropna\u001b[49m\u001b[43m,\u001b[49m\n\u001b[1;32m    939\u001b[0m \u001b[43m    \u001b[49m\u001b[43m)\u001b[49m\n\u001b[1;32m    941\u001b[0m \u001b[38;5;28mself\u001b[39m\u001b[38;5;241m.\u001b[39mobj \u001b[38;5;241m=\u001b[39m obj\n\u001b[1;32m    942\u001b[0m \u001b[38;5;28mself\u001b[39m\u001b[38;5;241m.\u001b[39maxis \u001b[38;5;241m=\u001b[39m obj\u001b[38;5;241m.\u001b[39m_get_axis_number(axis)\n",
      "File \u001b[0;32m~/.local/lib/python3.8/site-packages/pandas/core/groupby/grouper.py:985\u001b[0m, in \u001b[0;36mget_grouper\u001b[0;34m(obj, key, axis, level, sort, observed, validate, dropna)\u001b[0m\n\u001b[1;32m    983\u001b[0m         in_axis, level, gpr \u001b[38;5;241m=\u001b[39m \u001b[38;5;28;01mFalse\u001b[39;00m, gpr, \u001b[38;5;28;01mNone\u001b[39;00m\n\u001b[1;32m    984\u001b[0m     \u001b[38;5;28;01melse\u001b[39;00m:\n\u001b[0;32m--> 985\u001b[0m         \u001b[38;5;28;01mraise\u001b[39;00m \u001b[38;5;167;01mKeyError\u001b[39;00m(gpr)\n\u001b[1;32m    986\u001b[0m \u001b[38;5;28;01melif\u001b[39;00m \u001b[38;5;28misinstance\u001b[39m(gpr, Grouper) \u001b[38;5;129;01mand\u001b[39;00m gpr\u001b[38;5;241m.\u001b[39mkey \u001b[38;5;129;01mis\u001b[39;00m \u001b[38;5;129;01mnot\u001b[39;00m \u001b[38;5;28;01mNone\u001b[39;00m:\n\u001b[1;32m    987\u001b[0m     \u001b[38;5;66;03m# Add key to exclusions\u001b[39;00m\n\u001b[1;32m    988\u001b[0m     exclusions\u001b[38;5;241m.\u001b[39madd(gpr\u001b[38;5;241m.\u001b[39mkey)\n",
      "\u001b[0;31mKeyError\u001b[0m: 'Team'"
     ]
    }
   ],
   "source": [
    "top_teams = data.groupby('Te')['GoalsConceded'].sum().sort_values()\n",
    "print(least_conceded)"
   ]
  },
  {
   "cell_type": "code",
   "execution_count": null,
   "id": "c8c2174b-a6ac-4a90-ac3c-3cf331072b1a",
   "metadata": {},
   "outputs": [],
   "source": []
  }
 ],
 "metadata": {
  "kernelspec": {
   "display_name": "Python 3 (ipykernel)",
   "language": "python",
   "name": "python3"
  },
  "language_info": {
   "codemirror_mode": {
    "name": "ipython",
    "version": 3
   },
   "file_extension": ".py",
   "mimetype": "text/x-python",
   "name": "python",
   "nbconvert_exporter": "python",
   "pygments_lexer": "ipython3",
   "version": "3.8.10"
  }
 },
 "nbformat": 4,
 "nbformat_minor": 5
}
